{
 "cells": [
  {
   "cell_type": "code",
   "execution_count": null,
   "id": "2aad3730",
   "metadata": {},
   "outputs": [],
   "source": [
    "import sys\n",
    "import subprocess\n",
    "\n",
    "# version of python\n",
    "print(f\"🧠 Python version: {sys.version}\\n\")\n",
    "\n",
    "# Define the exact package names you're interested in\n",
    "target_pkgs = {\"transformers\", \"torch\", \"datasets\", \"numpy\", \"pandas\", \"peft\"}\n",
    "\n",
    "# Run pip freeze and capture output\n",
    "reqs = subprocess.run([\"pip\", \"freeze\"], capture_output=True, text=True)\n",
    "lines = reqs.stdout.splitlines()\n",
    "\n",
    "# Filter for exact matches only\n",
    "filtered = []\n",
    "for line in lines:\n",
    "    pkg_name = line.split(\"==\")[0].lower()\n",
    "    if pkg_name in target_pkgs:\n",
    "        filtered.append(line)\n",
    "\n",
    "# Display the filtered requirements\n",
    "print(\"🎯 Exact package versions in use:\\n\")\n",
    "print(\"\\n\".join(filtered))"
   ]
  }
 ],
 "metadata": {
  "kernelspec": {
   "display_name": "3.10.11",
   "language": "python",
   "name": "python3"
  },
  "language_info": {
   "codemirror_mode": {
    "name": "ipython",
    "version": 3
   },
   "file_extension": ".py",
   "mimetype": "text/x-python",
   "name": "python",
   "nbconvert_exporter": "python",
   "pygments_lexer": "ipython3",
   "version": "3.10.11"
  }
 },
 "nbformat": 4,
 "nbformat_minor": 5
}
