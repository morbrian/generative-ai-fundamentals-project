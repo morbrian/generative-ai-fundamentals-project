{
 "cells": [
  {
   "cell_type": "code",
   "execution_count": 3,
   "id": "2aad3730",
   "metadata": {},
   "outputs": [
    {
     "name": "stdout",
     "output_type": "stream",
     "text": [
      "🧠 Python version: 3.10.11 (main, Sep  2 2025, 16:50:01) [GCC 13.3.0]\n",
      "\n",
      "🎯 Exact package versions in use:\n",
      "\n",
      "datasets==2.18.0\n",
      "numpy==1.26.4\n",
      "pandas==2.2.1\n",
      "peft==0.5.0\n",
      "torch==2.0.1\n",
      "transformers==4.36.0\n"
     ]
    }
   ],
   "source": [
    "import sys\n",
    "import subprocess\n",
    "\n",
    "# version of python\n",
    "print(f\"🧠 Python version: {sys.version}\\n\")\n",
    "\n",
    "# Define the exact package names you're interested in\n",
    "target_pkgs = {\"transformers\", \"torch\", \"datasets\", \"numpy\", \"pandas\", \"peft\"}\n",
    "\n",
    "# Run pip freeze and capture output\n",
    "reqs = subprocess.run([\"pip\", \"freeze\"], capture_output=True, text=True)\n",
    "lines = reqs.stdout.splitlines()\n",
    "\n",
    "# Filter for exact matches only\n",
    "filtered = []\n",
    "for line in lines:\n",
    "    pkg_name = line.split(\"==\")[0].lower()\n",
    "    if pkg_name in target_pkgs:\n",
    "        filtered.append(line)\n",
    "\n",
    "# Display the filtered requirements\n",
    "print(\"🎯 Exact package versions in use:\\n\")\n",
    "print(\"\\n\".join(filtered))"
   ]
  }
 ],
 "metadata": {
  "kernelspec": {
   "display_name": "venv",
   "language": "python",
   "name": "python3"
  },
  "language_info": {
   "codemirror_mode": {
    "name": "ipython",
    "version": 3
   },
   "file_extension": ".py",
   "mimetype": "text/x-python",
   "name": "python",
   "nbconvert_exporter": "python",
   "pygments_lexer": "ipython3",
   "version": "3.10.11"
  }
 },
 "nbformat": 4,
 "nbformat_minor": 5
}
